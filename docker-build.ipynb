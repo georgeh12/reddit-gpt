{
 "cells": [
  {
   "cell_type": "markdown",
   "metadata": {},
   "source": [
    "# Docker Build\n",
    "Build Docker image from 'Dockerfile' using Docker Desktop. Ignore files found in '.dockerignore'."
   ]
  },
  {
   "cell_type": "code",
   "execution_count": 8,
   "metadata": {},
   "outputs": [],
   "source": [
    "!docker build -t georgeh12/reddit-gpt ."
   ]
  },
  {
   "cell_type": "markdown",
   "metadata": {},
   "source": [
    "# DockerHub Push\n",
    "Push image to [Docker Hub](https://hub.docker.com/repository/docker/georgeh12)"
   ]
  },
  {
   "cell_type": "code",
   "execution_count": 1,
   "metadata": {},
   "outputs": [
    {
     "name": "stdout",
     "output_type": "stream",
     "text": [
      "^C\n"
     ]
    },
    {
     "name": "stdout",
     "output_type": "stream",
     "text": [
      "Using default tag: latest\n",
      "The push refers to repository [docker.io/georgeh12/reddit-gpt]\n",
      "960ec045cb2b: Preparing\n",
      "1fe17069c90a: Preparing\n",
      "2a61fe6df7f1: Preparing\n",
      "032b5df87132: Preparing\n",
      "e1b73f6747a1: Preparing\n",
      "ca4204f811db: Preparing\n",
      "3d82675b4718: Preparing\n",
      "ba473bfdf54e: Preparing\n",
      "ca4204f811db: Waiting\n",
      "3d82675b4718: Waiting\n",
      "ceb365432eec: Preparing\n",
      "ba473bfdf54e: Waiting\n",
      "ceb365432eec: Waiting\n",
      "032b5df87132: Layer already exists\n",
      "ca4204f811db: Layer already exists\n",
      "e1b73f6747a1: Layer already exists\n",
      "3d82675b4718: Layer already exists\n",
      "ba473bfdf54e: Layer already exists\n",
      "ceb365432eec: Layer already exists\n",
      "1fe17069c90a: Layer already exists\n",
      "2a61fe6df7f1: Layer already exists\n",
      "960ec045cb2b: Pushed\n",
      "latest: digest: sha256:7bdf5527d4c3e9fea9eda2ce172d57c1db35ec4bacbdc0c09738f5c620e9846a size: 2210\n"
     ]
    }
   ],
   "source": [
    "!docker push georgeh12/reddit-gpt"
   ]
  },
  {
   "cell_type": "markdown",
   "metadata": {},
   "source": [
    "# Run Docker container\n",
    "Uses port 5000 to connect to MLflow UI."
   ]
  },
  {
   "cell_type": "code",
   "execution_count": 2,
   "metadata": {},
   "outputs": [
    {
     "name": "stdout",
     "output_type": "stream",
     "text": [
      "Docker container stopped successfully.\n",
      "Docker Container ID: 77ac253c8158a7a3c383b555d1d486484734532cef583fae23bb2c0eadbf692b\n"
     ]
    }
   ],
   "source": [
    "import subprocess\n",
    "\n",
    "command = \"docker run -d -p 5000:5000 georgeh12/reddit-gpt\"\n",
    "process = subprocess.Popen(command, shell=True, stdout=subprocess.PIPE, stderr=subprocess.PIPE)\n",
    "stdout, stderr = process.communicate()\n",
    "\n",
    "# Check if there was an error\n",
    "if process.returncode != 0:\n",
    "    print(\"Error running Docker container:\", stderr.decode())\n",
    "else:\n",
    "    # Extract the container ID from the output\n",
    "    container_id = stdout.decode().strip()\n",
    "\n",
    "    # Loop until the user responds\n",
    "    while True:\n",
    "        confirmation = input(\"Do you want to stop the Docker container? (yes/no, press Enter to continue): \").lower()\n",
    "        if confirmation == \"yes\":\n",
    "            # Stop the container using its ID\n",
    "            stop_command = f\"docker stop {container_id}\"\n",
    "            stop_process = subprocess.Popen(stop_command, shell=True)\n",
    "            stop_process.communicate()\n",
    "            print(\"Docker container stopped successfully.\")\n",
    "            break  # Exit the loop\n",
    "        elif confirmation == \"no\":\n",
    "            print(\"Docker container is running in the background.\")\n",
    "            break  # Exit the loop\n",
    "        elif confirmation == \"\":\n",
    "            # Continue waiting for input\n",
    "            continue\n",
    "        else:\n",
    "            print(\"Invalid input. Please enter 'yes' or 'no'.\")\n",
    "print(f\"Docker Container ID: {container_id}\")"
   ]
  }
 ],
 "metadata": {
  "kernelspec": {
   "display_name": ".venv",
   "language": "python",
   "name": "python3"
  },
  "language_info": {
   "codemirror_mode": {
    "name": "ipython",
    "version": 3
   },
   "file_extension": ".py",
   "mimetype": "text/x-python",
   "name": "python",
   "nbconvert_exporter": "python",
   "pygments_lexer": "ipython3",
   "version": "3.10.8"
  }
 },
 "nbformat": 4,
 "nbformat_minor": 2
}
