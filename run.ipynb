{
 "cells": [
  {
   "cell_type": "markdown",
   "metadata": {},
   "source": [
    "# Run Executables"
   ]
  },
  {
   "cell_type": "markdown",
   "metadata": {},
   "source": [
    "# Run Reddit-API Scraper\n",
    "Enter the number of runs. Switches between users in the reddit.json file"
   ]
  },
  {
   "cell_type": "code",
   "execution_count": 2,
   "metadata": {},
   "outputs": [],
   "source": [
    "import subprocess\n",
    "\n",
    "# Run the Reddit API scraper a bunch to pull many different posts\n",
    "num_runs = 0\n",
    "\n",
    "# Loop to run the function multiple times\n",
    "for i in range(num_runs):\n",
    "    # Use subprocess to call the Jupyter notebook and execute it\n",
    "    subprocess.run(['jupyter', 'nbconvert', '--execute', '--to', 'notebook', '--inplace', 'reddit-api-comments.ipynb'])"
   ]
  },
  {
   "cell_type": "markdown",
   "metadata": {},
   "source": [
    "# Run Sentiment Analysis"
   ]
  },
  {
   "cell_type": "code",
   "execution_count": 7,
   "metadata": {},
   "outputs": [],
   "source": [
    "import subprocess\n",
    "\n",
    "for file in ['sentiment-analysis.ipynb']:\n",
    "    subprocess.run(['jupyter', 'nbconvert', '--execute', '--to', 'notebook', '--inplace', file])"
   ]
  },
  {
   "cell_type": "markdown",
   "metadata": {},
   "source": [
    "# Run Model Training"
   ]
  },
  {
   "cell_type": "code",
   "execution_count": null,
   "metadata": {},
   "outputs": [],
   "source": [
    "import subprocess\n",
    "\n",
    "for file in ['model-training.ipynb']:\n",
    "    subprocess.run(['jupyter', 'nbconvert', '--execute', '--to', 'notebook', '--inplace', file])"
   ]
  },
  {
   "cell_type": "markdown",
   "metadata": {},
   "source": [
    "# Run MLflow\n",
    "Navigate to http://127.0.0.1:5000/"
   ]
  },
  {
   "cell_type": "code",
   "execution_count": 9,
   "metadata": {},
   "outputs": [
    {
     "name": "stdout",
     "output_type": "stream",
     "text": [
      "^C\n"
     ]
    },
    {
     "name": "stderr",
     "output_type": "stream",
     "text": [
      "INFO:waitress:Serving on http://0.0.0.0:5000\n"
     ]
    }
   ],
   "source": [
    "!mlflow ui -h 0.0.0.0"
   ]
  },
  {
   "cell_type": "markdown",
   "metadata": {},
   "source": [
    "# Generate PDF from ipynb files"
   ]
  },
  {
   "cell_type": "code",
   "execution_count": 5,
   "metadata": {},
   "outputs": [
    {
     "name": "stderr",
     "output_type": "stream",
     "text": [
      "[NbConvertApp] Converting notebook model-training.ipynb to pdf\n",
      "[NbConvertApp] Support files will be in model-training_files\\\n",
      "[NbConvertApp] Making directory .\\model-training_files\n",
      "[NbConvertApp] Writing 101888 bytes to notebook.tex\n",
      "[NbConvertApp] Building PDF\n",
      "[NbConvertApp] Running xelatex 3 times: ['xelatex', 'notebook.tex', '-quiet']\n",
      "[NbConvertApp] Running bibtex 1 time: ['bibtex', 'notebook']\n",
      "[NbConvertApp] WARNING | b had problems, most likely because there were no citations\n",
      "[NbConvertApp] PDF successfully created\n",
      "[NbConvertApp] Writing 6682585 bytes to model-training.pdf\n"
     ]
    }
   ],
   "source": [
    "# Requires Pandadocs: https://github.com/jgm/pandoc/releases/latest\n",
    "import os\n",
    "\n",
    "notebook = 'model-training'\n",
    "notebook_file = notebook + '.ipynb'\n",
    "# Convert the Jupyter Notebook to PDF\n",
    "!jupyter nbconvert --to pdf --no-input --TemplateExporter.exclude_input_prompt=True {notebook_file}\n",
    "\n",
    "auto_pdf = notebook + '.pdf'\n",
    "out_pdf = \"Visualizations.pdf\"\n",
    "# Rename the output PDF file\n",
    "if os.path.exists(out_pdf):\n",
    "    os.replace(auto_pdf, out_pdf)\n",
    "else:\n",
    "    os.rename(auto_pdf, out_pdf)"
   ]
  }
 ],
 "metadata": {
  "kernelspec": {
   "display_name": ".venv",
   "language": "python",
   "name": "python3"
  },
  "language_info": {
   "codemirror_mode": {
    "name": "ipython",
    "version": 3
   },
   "file_extension": ".py",
   "mimetype": "text/x-python",
   "name": "python",
   "nbconvert_exporter": "python",
   "pygments_lexer": "ipython3",
   "version": "3.10.8"
  }
 },
 "nbformat": 4,
 "nbformat_minor": 2
}
