{
 "cells": [
  {
   "cell_type": "markdown",
   "metadata": {},
   "source": [
    "# Test & Build Executables"
   ]
  },
  {
   "cell_type": "markdown",
   "metadata": {},
   "source": [
    "Run MLflow from http://127.0.0.1:5000/"
   ]
  },
  {
   "cell_type": "code",
   "execution_count": 2,
   "metadata": {},
   "outputs": [
    {
     "name": "stdout",
     "output_type": "stream",
     "text": [
      "^C\n"
     ]
    }
   ],
   "source": [
    "!mlflow ui"
   ]
  },
  {
   "cell_type": "markdown",
   "metadata": {},
   "source": [
    "Build and push image to [Docker Hub](https://hub.docker.com/repository/docker/georgeh12). Ignore files found in '.dockerignore'."
   ]
  },
  {
   "cell_type": "code",
   "execution_count": null,
   "metadata": {},
   "outputs": [],
   "source": [
    "!docker build -t georgeh12/mlflow .\n",
    "!docker push georgeh12/mlflow"
   ]
  },
  {
   "cell_type": "markdown",
   "metadata": {},
   "source": [
    "Generate PDF from ipynb files"
   ]
  },
  {
   "cell_type": "code",
   "execution_count": 1,
   "metadata": {},
   "outputs": [
    {
     "name": "stderr",
     "output_type": "stream",
     "text": [
      "[NbConvertApp] Converting notebook vader-analysis.ipynb to pdf\n",
      "[NbConvertApp] Support files will be in vader-analysis_files\\\n",
      "[NbConvertApp] Making directory .\\vader-analysis_files\n",
      "[NbConvertApp] Writing 76862 bytes to notebook.tex\n",
      "[NbConvertApp] Building PDF\n",
      "[NbConvertApp] Running xelatex 3 times: ['xelatex', 'notebook.tex', '-quiet']\n",
      "[NbConvertApp] Running bibtex 1 time: ['bibtex', 'notebook']\n",
      "[NbConvertApp] WARNING | b had problems, most likely because there were no citations\n",
      "[NbConvertApp] PDF successfully created\n",
      "[NbConvertApp] Writing 997690 bytes to vader-analysis.pdf\n"
     ]
    }
   ],
   "source": [
    "# Requires Pandadocs: https://github.com/jgm/pandoc/releases/latest\n",
    "import os\n",
    "\n",
    "# Convert the Jupyter Notebook to PDF\n",
    "!jupyter nbconvert --to pdf vader-analysis.ipynb\n",
    "\n",
    "# Rename the output PDF file\n",
    "if os.path.exists(\"Visualizations.pdf\"):\n",
    "    os.replace(\"vader-analysis.pdf\", \"Visualizations.pdf\")\n",
    "else:\n",
    "    os.rename(\"vader-analysis.pdf\", \"Visualizations.pdf\")"
   ]
  }
 ],
 "metadata": {
  "kernelspec": {
   "display_name": ".venv",
   "language": "python",
   "name": "python3"
  },
  "language_info": {
   "codemirror_mode": {
    "name": "ipython",
    "version": 3
   },
   "file_extension": ".py",
   "mimetype": "text/x-python",
   "name": "python",
   "nbconvert_exporter": "python",
   "pygments_lexer": "ipython3",
   "version": "3.10.8"
  }
 },
 "nbformat": 4,
 "nbformat_minor": 2
}
