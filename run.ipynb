{
 "cells": [
  {
   "cell_type": "markdown",
   "metadata": {},
   "source": [
    "# Test & Build Executables"
   ]
  },
  {
   "cell_type": "markdown",
   "metadata": {},
   "source": [
    "Run MLflow from http://127.0.0.1:5000/"
   ]
  },
  {
   "cell_type": "code",
   "execution_count": null,
   "metadata": {},
   "outputs": [],
   "source": [
    "!mlflow ui"
   ]
  },
  {
   "cell_type": "markdown",
   "metadata": {},
   "source": [
    "Build and push image to [Docker Hub](https://hub.docker.com/repository/docker/georgeh12). Ignore files found in '.dockerignore'."
   ]
  },
  {
   "cell_type": "code",
   "execution_count": null,
   "metadata": {},
   "outputs": [],
   "source": [
    "!docker build -t georgeh12/reddit-gpt .\n",
    "!docker push georgeh12/reddit-gpt"
   ]
  },
  {
   "cell_type": "markdown",
   "metadata": {},
   "source": [
    "Generate PDF from ipynb files"
   ]
  },
  {
   "cell_type": "code",
   "execution_count": 8,
   "metadata": {},
   "outputs": [
    {
     "name": "stderr",
     "output_type": "stream",
     "text": [
      "[NbConvertApp] Converting notebook vader-analysis.ipynb to pdf\n",
      "[NbConvertApp] Support files will be in vader-analysis_files\\\n",
      "[NbConvertApp] Making directory .\\vader-analysis_files\n",
      "[NbConvertApp] Writing 38702 bytes to notebook.tex\n",
      "[NbConvertApp] Building PDF\n",
      "[NbConvertApp] Running xelatex 3 times: ['xelatex', 'notebook.tex', '-quiet']\n",
      "[NbConvertApp] Running bibtex 1 time: ['bibtex', 'notebook']\n",
      "[NbConvertApp] WARNING | b had problems, most likely because there were no citations\n",
      "[NbConvertApp] PDF successfully created\n",
      "[NbConvertApp] Writing 1416716 bytes to vader-analysis.pdf\n"
     ]
    }
   ],
   "source": [
    "# Requires Pandadocs: https://github.com/jgm/pandoc/releases/latest\n",
    "import os\n",
    "\n",
    "# Convert the Jupyter Notebook to PDF\n",
    "!jupyter nbconvert --to pdf --no-input --TemplateExporter.exclude_input_prompt=True vader-analysis.ipynb\n",
    "\n",
    "# Rename the output PDF file\n",
    "if os.path.exists(\"Visualizations.pdf\"):\n",
    "    os.replace(\"vader-analysis.pdf\", \"Visualizations.pdf\")\n",
    "else:\n",
    "    os.rename(\"vader-analysis.pdf\", \"Visualizations.pdf\")"
   ]
  },
  {
   "cell_type": "markdown",
   "metadata": {},
   "source": [
    "Run API Call"
   ]
  },
  {
   "cell_type": "code",
   "execution_count": 1,
   "metadata": {},
   "outputs": [],
   "source": [
    "import subprocess\n",
    "\n",
    "# Run the Reddit API scraper a bunch to pull many different posts\n",
    "num_runs = 2\n",
    "\n",
    "# Loop to run the function multiple times\n",
    "for i in range(num_runs):\n",
    "    # Use subprocess to call the Jupyter notebook and execute it\n",
    "    subprocess.run(['jupyter', 'nbconvert', '--execute', '--to', 'notebook', '--inplace', 'reddit-api-comments.ipynb'])\n",
    "\n",
    "# Analyze the API dataset\n",
    "#subprocess.run(['jupyter', 'nbconvert', '--execute', '--to', 'notebook', '--inplace', 'vader-analysis.ipynb'])"
   ]
  }
 ],
 "metadata": {
  "kernelspec": {
   "display_name": ".venv",
   "language": "python",
   "name": "python3"
  },
  "language_info": {
   "codemirror_mode": {
    "name": "ipython",
    "version": 3
   },
   "file_extension": ".py",
   "mimetype": "text/x-python",
   "name": "python",
   "nbconvert_exporter": "python",
   "pygments_lexer": "ipython3",
   "version": "3.10.8"
  }
 },
 "nbformat": 4,
 "nbformat_minor": 2
}
